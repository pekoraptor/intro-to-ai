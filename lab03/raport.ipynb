{
 "cells": [
  {
   "attachments": {},
   "cell_type": "markdown",
   "metadata": {},
   "source": [
    "# WSI LAB03 - Filip Ryniewicz"
   ]
  },
  {
   "attachments": {},
   "cell_type": "markdown",
   "metadata": {},
   "source": [
    "\n",
    "Zaimplementowałem uniwersalny rekursywny algorytm alphabeta i przetestowałem jego działanie na ConnectFour. Zbadałem wpływ głębokości przeszukiwania podawanej do algorytmu na jego skuteczność."
   ]
  },
  {
   "attachments": {},
   "cell_type": "markdown",
   "metadata": {},
   "source": [
    "## Decyzje projektowe"
   ]
  },
  {
   "attachments": {},
   "cell_type": "markdown",
   "metadata": {},
   "source": [
    "Algorytm alphabeta przyjmuje parametry:\n",
    "- node - aktualny stan gry\n",
    "- głebokość przeszukiwania\n",
    "- parametry a i b służące do minimalizacji czasu działania algorytmu poprzez obcinanie poddrzew\n",
    "- maximizingPlayer - gracz dla którego algorytm ma znaleźć najlepszy ruch (bot)\n",
    "- funkcja heurystyczna służąca do oceniania stanu gry i przypisywania mu wartości liczbowej ułatwiającej porównywanie ruchów\n",
    "\n",
    "\n",
    "Funkcja heurystyczna ConnectFourHeuristic przyjmuje parametry:\n",
    "- node - stan gry do oceny\n",
    "- maximizingPlayer - char przestawiający gracza dla którego wywołana została funkcja\n",
    "\n",
    "\n",
    "Zaimplementowana przeze mnie funkcja heurystyczna ocenia stan gry, nadając mu wartość liczbową. Punkty zdobyte przez gracza podanego przy wywołaniu są dodatnie, a dla przeciwnika - ujemne. \n",
    "Za zajęcie dwóch pól obok siebie, gracz jest nagradzany 1 punktem, a za linię o długości 3 dostaje 5 punktów, ponieważ taka konstrukcja jest dużo bliżej do zwycięstwa.\n",
    "Za ułożenie linii o długości 4 (stan terminalny gry) gracz dostaje wynik nieskończoność.\n",
    "Ponadto za zablokowane linie (np. pionowe 2 pola przykryte polem przeciwnika) punkty nie są przyznawane. Tak samo za linie, które nie mają szansy osiągnięcia długości 4 (np. pionowa dwójka tuż przy górnej granicy planszy) punkty nie są przyznawane."
   ]
  },
  {
   "attachments": {},
   "cell_type": "markdown",
   "metadata": {},
   "source": [
    "## Porównanie działania algorytmów z różnymi depth przeciwko losowym ruchom"
   ]
  },
  {
   "attachments": {},
   "cell_type": "markdown",
   "metadata": {},
   "source": [
    "W celu porównania efektywności różnych depth przeprowadziłem rozgrywki między botami posługującymi się algorytmem alphaBeta a botem robiącym losowe ruchy. Oczywiście nie jest to idealny eksperyment ponieważ w dużej mierze zależy od losu, ale sądzę że uda się wyciągnąć z jego wyników sensowne wnioski."
   ]
  },
  {
   "cell_type": "code",
   "execution_count": 5,
   "metadata": {},
   "outputs": [
    {
     "data": {
      "text/html": [
       "<div>\n",
       "<style scoped>\n",
       "    .dataframe tbody tr th:only-of-type {\n",
       "        vertical-align: middle;\n",
       "    }\n",
       "\n",
       "    .dataframe tbody tr th {\n",
       "        vertical-align: top;\n",
       "    }\n",
       "\n",
       "    .dataframe thead th {\n",
       "        text-align: right;\n",
       "    }\n",
       "</style>\n",
       "<table border=\"1\" class=\"dataframe\">\n",
       "  <thead>\n",
       "    <tr style=\"text-align: right;\">\n",
       "      <th></th>\n",
       "      <th>Wins</th>\n",
       "      <th>Draws</th>\n",
       "      <th>Losses</th>\n",
       "      <th>Win%</th>\n",
       "    </tr>\n",
       "  </thead>\n",
       "  <tbody>\n",
       "    <tr>\n",
       "      <th>1</th>\n",
       "      <td>955</td>\n",
       "      <td>0</td>\n",
       "      <td>45</td>\n",
       "      <td>95.5%</td>\n",
       "    </tr>\n",
       "    <tr>\n",
       "      <th>2</th>\n",
       "      <td>970</td>\n",
       "      <td>0</td>\n",
       "      <td>30</td>\n",
       "      <td>97.0%</td>\n",
       "    </tr>\n",
       "    <tr>\n",
       "      <th>3</th>\n",
       "      <td>944</td>\n",
       "      <td>0</td>\n",
       "      <td>56</td>\n",
       "      <td>94.4%</td>\n",
       "    </tr>\n",
       "    <tr>\n",
       "      <th>4</th>\n",
       "      <td>915</td>\n",
       "      <td>0</td>\n",
       "      <td>85</td>\n",
       "      <td>91.5%</td>\n",
       "    </tr>\n",
       "    <tr>\n",
       "      <th>5</th>\n",
       "      <td>917</td>\n",
       "      <td>0</td>\n",
       "      <td>83</td>\n",
       "      <td>91.7%</td>\n",
       "    </tr>\n",
       "    <tr>\n",
       "      <th>Even</th>\n",
       "      <td>1885</td>\n",
       "      <td>0</td>\n",
       "      <td>115</td>\n",
       "      <td>94.2%</td>\n",
       "    </tr>\n",
       "    <tr>\n",
       "      <th>Odd</th>\n",
       "      <td>2816</td>\n",
       "      <td>0</td>\n",
       "      <td>184</td>\n",
       "      <td>93.9%</td>\n",
       "    </tr>\n",
       "  </tbody>\n",
       "</table>\n",
       "</div>"
      ],
      "text/plain": [
       "      Wins  Draws  Losses   Win%\n",
       "1      955      0      45  95.5%\n",
       "2      970      0      30  97.0%\n",
       "3      944      0      56  94.4%\n",
       "4      915      0      85  91.5%\n",
       "5      917      0      83  91.7%\n",
       "Even  1885      0     115  94.2%\n",
       "Odd   2816      0     184  93.9%"
      ]
     },
     "execution_count": 5,
     "metadata": {},
     "output_type": "execute_result"
    }
   ],
   "source": [
    "from raportUtils import compareVsRandom\n",
    "\n",
    "df = compareVsRandom([1, 2, 3, 4, 5], 1000)\n",
    "df"
   ]
  },
  {
   "attachments": {},
   "cell_type": "markdown",
   "metadata": {},
   "source": [
    "O dziwo najlepiej sprawdził się depth = 2. Co ciekawe, wbrew moim oczekiwaniom, większe głębokości przeszukiwań sprawywały się gorzej.\n",
    "Nie do końca ufam temu wynikowi, gdyż eksperyment był losowy"
   ]
  },
  {
   "attachments": {},
   "cell_type": "markdown",
   "metadata": {},
   "source": [
    "## Porównywanie różnych depth poprzez przeprowadzenie rozgrywki między botami"
   ]
  },
  {
   "attachments": {},
   "cell_type": "markdown",
   "metadata": {},
   "source": [
    "W tym eksperymencie przeprowadzę rozgrywki między dwoma botami korzystającymi z algorytmu alphaBeta z różnymi parametrami depth. Myślę, że ten eksperyment w jednoznaczny i przejrzysty sposób przestawi wpływ parametru depth na działanie algorytmu. Jeśli jeden bot wygrywa z drugim, to jego depth jest bardziej optymalne."
   ]
  },
  {
   "cell_type": "code",
   "execution_count": 7,
   "metadata": {},
   "outputs": [
    {
     "data": {
      "text/html": [
       "<div>\n",
       "<style scoped>\n",
       "    .dataframe tbody tr th:only-of-type {\n",
       "        vertical-align: middle;\n",
       "    }\n",
       "\n",
       "    .dataframe tbody tr th {\n",
       "        vertical-align: top;\n",
       "    }\n",
       "\n",
       "    .dataframe thead th {\n",
       "        text-align: right;\n",
       "    }\n",
       "</style>\n",
       "<table border=\"1\" class=\"dataframe\">\n",
       "  <thead>\n",
       "    <tr style=\"text-align: right;\">\n",
       "      <th></th>\n",
       "      <th>VS</th>\n",
       "      <th>Wins</th>\n",
       "      <th>Draws</th>\n",
       "      <th>Losses</th>\n",
       "      <th>Win%</th>\n",
       "    </tr>\n",
       "  </thead>\n",
       "  <tbody>\n",
       "    <tr>\n",
       "      <th>1</th>\n",
       "      <td>2</td>\n",
       "      <td>43</td>\n",
       "      <td>0</td>\n",
       "      <td>57</td>\n",
       "      <td>43.0%</td>\n",
       "    </tr>\n",
       "    <tr>\n",
       "      <th>2</th>\n",
       "      <td>3</td>\n",
       "      <td>39</td>\n",
       "      <td>7</td>\n",
       "      <td>54</td>\n",
       "      <td>39.0%</td>\n",
       "    </tr>\n",
       "    <tr>\n",
       "      <th>2</th>\n",
       "      <td>4</td>\n",
       "      <td>55</td>\n",
       "      <td>7</td>\n",
       "      <td>38</td>\n",
       "      <td>55.0%</td>\n",
       "    </tr>\n",
       "    <tr>\n",
       "      <th>3</th>\n",
       "      <td>4</td>\n",
       "      <td>57</td>\n",
       "      <td>1</td>\n",
       "      <td>42</td>\n",
       "      <td>57.0%</td>\n",
       "    </tr>\n",
       "    <tr>\n",
       "      <th>3</th>\n",
       "      <td>5</td>\n",
       "      <td>54</td>\n",
       "      <td>3</td>\n",
       "      <td>43</td>\n",
       "      <td>54.0%</td>\n",
       "    </tr>\n",
       "  </tbody>\n",
       "</table>\n",
       "</div>"
      ],
      "text/plain": [
       "   VS  Wins  Draws  Losses   Win%\n",
       "1   2    43      0      57  43.0%\n",
       "2   3    39      7      54  39.0%\n",
       "2   4    55      7      38  55.0%\n",
       "3   4    57      1      42  57.0%\n",
       "3   5    54      3      43  54.0%"
      ]
     },
     "execution_count": 7,
     "metadata": {},
     "output_type": "execute_result"
    }
   ],
   "source": [
    "from raportUtils import compareBotVsBot\n",
    "df = compareBotVsBot([1, 2, 2, 3, 3], [2, 3, 4, 4, 5], 50)\n",
    "df"
   ]
  },
  {
   "attachments": {},
   "cell_type": "markdown",
   "metadata": {},
   "source": [
    "### Wnioski z eksperymentu:\n",
    "Eksperyment przeprowadziłem w taki sposób, że w pojedynku dwóch botów, każdy tyle samo razy zaczynał grę jako pierwszy, żeby wynik eksperymentu nie zależał od tego kto zaczynał pierwszy.\n",
    "\n",
    "Największą przepaść między bliskimi sobie głębokościami zaobserwowałem w pojedynku 2 vs 3. Również 2 sprawowało się zdecydowanie lepiej niż 1. Co ciekawe, 4 zostało pokonane przez 2 i 3, a 5 przez 3. Nie spodziewałem się takiego wyniku.\n",
    "\n",
    "Z eksperymtu wynika, że najlepiej sprawuje się głębokość równa 3."
   ]
  },
  {
   "attachments": {},
   "cell_type": "markdown",
   "metadata": {},
   "source": [
    "## Porównanie wartości ruchów znajdowanych przez algorytmy z różnymi głębokościami przeszukiwania w tych samych pozycjach"
   ]
  },
  {
   "attachments": {},
   "cell_type": "markdown",
   "metadata": {},
   "source": [
    "W tym eksperymencie zasymulowałem grę między botem ruszającym się zgodnie z ruchami znajdowyanymi przez algorytm alphaBeta z pierwszym przekazanym depth (w tym przypadku 2), a botem robiącym losowe ruchy. W tym samym czasie, przy każdym ruchu wywoływane są algorytmy alphaBeta z innymi podanymi depths, w celu zbadania jakie wartości mają najlepsze ruchy przez nie znajdowane. "
   ]
  },
  {
   "cell_type": "code",
   "execution_count": 4,
   "metadata": {},
   "outputs": [
    {
     "data": {
      "image/png": "[encoded data removed]",
      "text/plain": [
       "<Figure size 640x480 with 1 Axes>"
      ]
     },
     "metadata": {},
     "output_type": "display_data"
    }
   ],
   "source": [
    "from raportUtils import compareDepthsOnSingleGame\n",
    "compareDepthsOnSingleGame([2, 3, 4, 5])"
   ]
  },
  {
   "attachments": {},
   "cell_type": "markdown",
   "metadata": {},
   "source": [
    "Na wykresie przestawione są wartości najlepszych ruchów znajdowanych przez algorytmy alphaBeta z głębokościami przeszukiwania 2, 3, 4 i 5 podczas przebiegu jednej gry. Eksperyment ten pokazuje jak algorytm ocenia daną sytuację w zależności od głębokości przeszukiwania. Dla głębokości 3 i 5, algorytm w tej samej sytuacji znajdował lepsze ruchy niż dla głębokości 2 i 4. Znaczy to, że algorytm alphaBeta sprawuje się trochę lepiej z nieparzystymi głębokościami przeszukiwania."
   ]
  },
  {
   "attachments": {},
   "cell_type": "markdown",
   "metadata": {},
   "source": [
    "## Wnioski końcowe i podsumowanie"
   ]
  },
  {
   "attachments": {},
   "cell_type": "markdown",
   "metadata": {},
   "source": [
    "Wraz ze wzrostem głębokości przeszukiwania, wykładniczo rośnie czas działania algorytmu, co znaczy, że często nie można sobie pozwolić na korzystanie z algorytmu z dużą głębokością. Wydaje mi się, że dla gry ConnectFour głębokość 3 sprawuje się bardzo dobrze i jest złotym środkiem dającym zadowalającą skuteczność przy akceptowalnie krótkim czasie działania.\n",
    "\n",
    "Ponadto, drugi i trzeci eksperyment wskazują na to, że nieparzyste głębokości sprawują się trochę lepiej, aczkolwiek wynik pierwszego eksperymentu trochę tej tezie przeczy.\n",
    "\n",
    "Poza tym, spodziewałem się, że im większą podam głębokość, tym algorytm będzie lepiej działał, aczkolwiek ku mojemu zdziwieniu - wcale się tak nie działo. Wydaje mi się, że może to być kwestia różnicy między alphaBeta i miniMax, ale nie przebadałem tego więc jest to tylko teoria."
   ]
  }
 ],
 "metadata": {
  "kernelspec": {
   "display_name": "Python 3",
   "language": "python",
   "name": "python3"
  },
  "language_info": {
   "codemirror_mode": {
    "name": "ipython",
    "version": 3
   },
   "file_extension": ".py",
   "mimetype": "text/x-python",
   "name": "python",
   "nbconvert_exporter": "python",
   "pygments_lexer": "ipython3",
   "version": "3.10.11"
  },
  "orig_nbformat": 4
 },
 "nbformat": 4,
 "nbformat_minor": 2
}
