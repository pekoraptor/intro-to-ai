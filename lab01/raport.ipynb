{
 "cells": [
  {
   "attachments": {},
   "cell_type": "markdown",
   "id": "455f7d9b-1721-47d2-946a-b45dc9002d24",
   "metadata": {},
   "source": [
    "# WSI LAB 1 - Filip Ryniewicz\n",
    "## Algorytm gradientu prostego\n",
    "Zaimplementowałem algorytm gradientu prostego i przebadałem jego działanie na funkcjach:\n",
    "$f(x) = \\frac{x^{4}}{4}$, oraz\n",
    "$g(x) = 1.5 - exp(-x_{1}^{2}-x_{2}^{2}) - 0.5exp[-(x_{1}-1)^{2}-(x_{2}+2)^{2}]$"
   ]
  },
  {
   "cell_type": "code",
   "execution_count": 4,
   "id": "40df3c0c-19f5-4473-be82-449a78aef823",
   "metadata": {},
   "outputs": [],
   "source": [
    "from solver import MySolver\n",
    "from functions import f, fGradient, g, gGradient\n",
    "import numpy as np"
   ]
  },
  {
   "cell_type": "code",
   "execution_count": 5,
   "id": "d6a470ce-c103-46e0-bf2f-38cb239273d3",
   "metadata": {},
   "outputs": [
    {
     "name": "stdout",
     "output_type": "stream",
     "text": [
      "[ 0.00347601 -0.00695199]\n"
     ]
    }
   ],
   "source": [
    "s = MySolver(0.01)\n",
    "x = np.array([0, 1], dtype=np.float64)\n",
    "output = s.solve(g, gGradient, x, final_step=1e-17)  # check for g    \n",
    "print(output[0])\n"
   ]
  }
 ],
 "metadata": {
  "kernelspec": {
   "display_name": "Python 3 (ipykernel)",
   "language": "python",
   "name": "python3"
  },
  "language_info": {
   "codemirror_mode": {
    "name": "ipython",
    "version": 3
   },
   "file_extension": ".py",
   "mimetype": "text/x-python",
   "name": "python",
   "nbconvert_exporter": "python",
   "pygments_lexer": "ipython3",
   "version": "3.10.11"
  }
 },
 "nbformat": 4,
 "nbformat_minor": 5
}
